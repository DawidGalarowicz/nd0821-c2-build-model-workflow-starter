{
 "cells": [
  {
   "cell_type": "markdown",
   "id": "3b7714d7",
   "metadata": {},
   "source": [
    "# EDA - Sample of NYC Airbnb data"
   ]
  },
  {
   "cell_type": "markdown",
   "id": "5d28e1d5",
   "metadata": {},
   "source": [
    "## Get the data"
   ]
  },
  {
   "cell_type": "code",
   "execution_count": null,
   "id": "265feb10",
   "metadata": {},
   "outputs": [],
   "source": [
    "import wandb\n",
    "import pandas as pd\n",
    "\n",
    "# Start tracking the notebook and use the latest sample\n",
    "run = wandb.init(project=\"nyc_airbnb\", group=\"eda\", save_code=True)\n",
    "local_path = wandb.use_artifact(\"sample.csv:latest\").file()\n",
    "df = pd.read_csv(local_path)"
   ]
  },
  {
   "cell_type": "markdown",
   "id": "bc51f3a9",
   "metadata": {},
   "source": [
    "## Perform EDA with pandas_profiling"
   ]
  },
  {
   "cell_type": "code",
   "execution_count": null,
   "id": "eb76a77c",
   "metadata": {},
   "outputs": [],
   "source": [
    "import pandas_profiling\n",
    "\n",
    "profile = pandas_profiling.ProfileReport(df)\n",
    "profile.to_widgets()"
   ]
  },
  {
   "cell_type": "markdown",
   "id": "a35a9ed2",
   "metadata": {},
   "source": [
    "### Notes\n",
    "- There are missing values in a number of columns\n",
    "- 'last_review' should be converted to datetime\n",
    "- Price column contains outliers which may impact the model (e.g. 0s or extremely large values)"
   ]
  },
  {
   "cell_type": "markdown",
   "id": "7c150f99",
   "metadata": {},
   "source": [
    "## Clean the data"
   ]
  },
  {
   "cell_type": "code",
   "execution_count": null,
   "id": "d90d840e",
   "metadata": {},
   "outputs": [],
   "source": [
    "# Drop outliers\n",
    "min_price = 10\n",
    "max_price = 350\n",
    "idx = df['price'].between(min_price, max_price)\n",
    "df = df[idx].copy()\n",
    "\n",
    "# Convert last_review to datetime\n",
    "df['last_review'] = pd.to_datetime(df['last_review'])"
   ]
  },
  {
   "cell_type": "code",
   "execution_count": null,
   "id": "9581a437",
   "metadata": {},
   "outputs": [],
   "source": [
    "# Check if everything looks\n",
    "df.info() "
   ]
  },
  {
   "cell_type": "markdown",
   "id": "fb86bfc0",
   "metadata": {},
   "source": [
    "## End the W&B run"
   ]
  },
  {
   "cell_type": "code",
   "execution_count": null,
   "id": "930c8bd1",
   "metadata": {},
   "outputs": [],
   "source": [
    "run.finish()"
   ]
  }
 ],
 "metadata": {
  "interpreter": {
   "hash": "0adf8007e587efc9c44d0a0079802ed1623a562af5af57f679df60e1e96dc43c"
  },
  "kernelspec": {
   "display_name": "Python 3",
   "language": "python",
   "name": "python3"
  },
  "language_info": {
   "codemirror_mode": {
    "name": "ipython",
    "version": 3
   },
   "file_extension": ".py",
   "mimetype": "text/x-python",
   "name": "python",
   "nbconvert_exporter": "python",
   "pygments_lexer": "ipython3",
   "version": "3.9.7"
  }
 },
 "nbformat": 4,
 "nbformat_minor": 5
}
